{
 "cells": [
  {
   "cell_type": "markdown",
   "metadata": {},
   "source": [
    "# Algorithm"
   ]
  },
  {
   "cell_type": "code",
   "execution_count": 1,
   "metadata": {},
   "outputs": [
    {
     "data": {
      "application/vnd.jupyter.widget-view+json": {
       "model_id": "a03ad6a4f1ec411daa0aa013bf5a7924",
       "version_major": 2,
       "version_minor": 0
      },
      "text/plain": [
       "QgridWidget(grid_options={'fullWidthRows': True, 'syncColumnCellResize': True, 'forceFitColumns': True, 'defau…"
      ]
     },
     "metadata": {},
     "output_type": "display_data"
    }
   ],
   "source": [
    "import pandas as pd\n",
    "from max_bipartite_matrching import wrapper\n",
    "import qgrid\n",
    "\n",
    "AVAILABLE_DATES = [5, 6, 71, 72, 8, 9, 10]\n",
    "\n",
    "NOTE = {'Hila': [5, 71, 72, 8, 9, 10],\n",
    "        'Yana': [6, 71, 72, 8, 9, 10],\n",
    "        'Anat': [6, 9, 10],\n",
    "        'Lilach': [5, 71, 72, 9, 10],\n",
    "        'Moran': [5, 6, 71, 72, 8, 9, 10],\n",
    "        'Meital': [5, 6, 71, 72, 8, 9],\n",
    "        }\n",
    "\n",
    "df = pd.DataFrame(data=[[key, value] for key,value in NOTE.items()], columns=['Name', 'Dates'])\n",
    "qgrid_widget = qgrid.show_grid(df, show_toolbar=True)\n",
    "qgrid_widget"
   ]
  },
  {
   "cell_type": "code",
   "execution_count": 3,
   "metadata": {},
   "outputs": [
    {
     "name": "stdout",
     "output_type": "stream",
     "text": [
      " Date:   5 who: Yana\n",
      " Date:   6 who: Hila\n",
      " Date:  72 who: Anat\n",
      " Date:  71 who: Micha\n",
      " Date:   8 who: Lilach\n",
      " Date:  10 who: Meital\n"
     ]
    }
   ],
   "source": [
    "df2 = qgrid_widget.get_changed_df()\n",
    "NOTE = {row['Name'] : row['Dates'] for (index, row) in df2.iterrows()}\n",
    "wrapper(AVAILABLE_DATES, NOTE)"
   ]
  }
 ],
 "metadata": {
  "kernelspec": {
   "display_name": "Python 3",
   "language": "python",
   "name": "python3"
  },
  "language_info": {
   "codemirror_mode": {
    "name": "ipython",
    "version": 3
   },
   "file_extension": ".py",
   "mimetype": "text/x-python",
   "name": "python",
   "nbconvert_exporter": "python",
   "pygments_lexer": "ipython3",
   "version": "3.6.4"
  }
 },
 "nbformat": 4,
 "nbformat_minor": 2
}
