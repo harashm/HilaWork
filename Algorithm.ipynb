{
 "cells": [
  {
   "cell_type": "markdown",
   "metadata": {},
   "source": [
    "# Algorithm"
   ]
  },
  {
   "cell_type": "code",
   "execution_count": 11,
   "metadata": {},
   "outputs": [
    {
     "data": {
      "application/vnd.jupyter.widget-view+json": {
       "model_id": "7212a4aa8d144f28b657b9f7d5f28e6f",
       "version_major": 2,
       "version_minor": 0
      },
      "text/plain": [
       "QgridWidget(grid_options={'fullWidthRows': True, 'syncColumnCellResize': True, 'forceFitColumns': True, 'defau…"
      ]
     },
     "metadata": {},
     "output_type": "display_data"
    }
   ],
   "source": [
    "import numpy as np\n",
    "import pandas as pd\n",
    "import qgrid\n",
    "randn = np.random.randn\n",
    "\n",
    "AVAILABLE_DATES = [5, 6, 7, 8, 9, 10]\n",
    "NOTE = {'Hila': [6],\n",
    "        'Yana': [5],\n",
    "        'Anat': [5,7,8],\n",
    "        'Lilach': [6,8],\n",
    "        'Moran': [],\n",
    "        'Meital': [10],\n",
    "        }\n",
    "\n",
    "df = pd.DataFrame(index=['Hila'], data=[[[6,7]]], columns=['Dates'])\n",
    "    \n",
    "qgrid_widget = qgrid.show_grid(df, show_toolbar=True)\n",
    "qgrid_widget"
   ]
  },
  {
   "cell_type": "code",
   "execution_count": 9,
   "metadata": {},
   "outputs": [],
   "source": []
  },
  {
   "cell_type": "code",
   "execution_count": 10,
   "metadata": {},
   "outputs": [],
   "source": [
    "def create_graph():\n",
    "    total_people = len(NOTE)\n",
    "    total_available_dates = len(AVAILABLE_DATES)\n",
    "    graph = [[0 for i in range(total_people)] for j in range(total_available_dates)]\n",
    "    date2idx = {}\n",
    "    for i, date in enumerate(AVAILABLE_DATES):\n",
    "        date2idx[AVAILABLE_DATES[i]] = i\n",
    "    for worker_idx, worker in enumerate(NOTE):\n",
    "        aval_date_per_worker = NOTE[worker]\n",
    "        for date in aval_date_per_worker:\n",
    "            graph[date2idx[date]][worker_idx] = 1\n",
    "\n",
    "    # pprint.pprint(graph)\n",
    "    return graph\n",
    "\n",
    "bpGraph = create_graph()"
   ]
  },
  {
   "cell_type": "code",
   "execution_count": 11,
   "metadata": {},
   "outputs": [],
   "source": [
    "class GFG:\n",
    "    def __init__(self, graph):\n",
    "        # residual graph\n",
    "        self.graph = graph\n",
    "        self.ppl = len(graph)\n",
    "        self.jobs = len(graph[0])\n",
    "        self.res = dict()\n",
    "    # A DFS based recursive function that returns true if a matching for vertex u is possible\n",
    "    def bpm(self, u, matchR, seen):\n",
    "        # Try every job one by one\n",
    "        for v in range(self.jobs):\n",
    "            # If applicant u is interested in job v and v is not seen\n",
    "            if self.graph[u][v] and seen[v] == False:\n",
    "                # Mark v as visited\n",
    "                seen[v] = True\n",
    "                if matchR[v] == -1 or self.bpm(matchR[v], matchR, seen):\n",
    "                    matchR[v] = u\n",
    "                    self.res[v] = u\n",
    "                    return True\n",
    "        return False\n",
    "\n",
    "    # Returns maximum number of matching\n",
    "    def maxBPM(self):\n",
    "        matchR = [-1] * self.jobs\n",
    "        # Count of jobs assigned to applicants\n",
    "        result = 0\n",
    "        for i in range(self.ppl):\n",
    "            # Mark all jobs as not seen for next applicant.\n",
    "            seen = [False] * self.jobs\n",
    "            # Find if the applicant 'u' can get a job\n",
    "            if self.bpm(i, matchR, seen):\n",
    "                result += 1\n",
    "        # print(matchR)\n",
    "        return result\n"
   ]
  },
  {
   "cell_type": "code",
   "execution_count": 16,
   "metadata": {},
   "outputs": [
    {
     "name": "stdout",
     "output_type": "stream",
     "text": [
      " Date: 6, who: Hila\n",
      " Date: 5, who: Yana\n",
      " Date: 7, who: Anat\n",
      " Date: 8, who: Lilach\n",
      " Date: 10, who: Meital\n"
     ]
    }
   ],
   "source": [
    "g = GFG(bpGraph)\n",
    "g.maxBPM()\n",
    "# print(\"Maximum number of applicants that can get job is %d \" % g.maxBPM())\n",
    "# print(g.res)\n",
    "\n",
    "for key in g.res:\n",
    "    key_res = g.res[key]\n",
    "    print(f\" Date: {AVAILABLE_DATES[key]}, who: {list(NOTE.keys())[key_res]}\")"
   ]
  }
 ],
 "metadata": {
  "kernelspec": {
   "display_name": "Python 3",
   "language": "python",
   "name": "python3"
  },
  "language_info": {
   "codemirror_mode": {
    "name": "ipython",
    "version": 3
   },
   "file_extension": ".py",
   "mimetype": "text/x-python",
   "name": "python",
   "nbconvert_exporter": "python",
   "pygments_lexer": "ipython3",
   "version": "3.6.4"
  }
 },
 "nbformat": 4,
 "nbformat_minor": 2
}
